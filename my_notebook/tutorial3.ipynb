{
 "cells": [
  {
   "cell_type": "markdown",
   "metadata": {},
   "source": [
    "If, elif, else warm-up"
   ]
  },
  {
   "cell_type": "code",
   "execution_count": 4,
   "metadata": {},
   "outputs": [
    {
     "name": "stdout",
     "output_type": "stream",
     "text": [
      "It's cool! Enjoy the weather.\n"
     ]
    }
   ],
   "source": [
    "temp = input(\"What is the temperature outside? \")\n",
    "temp = int(temp)\n",
    "if temp < 0:\n",
    "    print(\"It's freezing! Wear a heavy jacket.\")\n",
    "elif temp < 10:\n",
    "    print(\"It's cold! Have a warm drink.\")\n",
    "elif temp < 20:\n",
    "    print(\"It's cool! Enjoy the weather.\")\n",
    "elif temp < 30:\n",
    "    print(\"It's warm! Have an ice cream.\")\n",
    "else:\n",
    "    print(\"It's hot! Stay hydrated.\")\n"
   ]
  },
  {
   "cell_type": "markdown",
   "metadata": {},
   "source": [
    "For"
   ]
  },
  {
   "cell_type": "code",
   "execution_count": 5,
   "metadata": {},
   "outputs": [
    {
     "name": "stdout",
     "output_type": "stream",
     "text": [
      "I like pepsi!\n",
      "I like sprite!\n",
      "I like coke!\n"
     ]
    }
   ],
   "source": [
    "sodas = [\"pepsi\", \"sprite\", \"coke\"]\n",
    "\n",
    "for soda in sodas:\n",
    "    print(f\"I like {soda}!\")"
   ]
  },
  {
   "cell_type": "code",
   "execution_count": 8,
   "metadata": {},
   "outputs": [
    {
     "name": "stdout",
     "output_type": "stream",
     "text": [
      "Number is 1\n",
      "Number is 2\n",
      "Number is 3\n",
      "Number is 4\n",
      "Number is 5\n"
     ]
    }
   ],
   "source": [
    "for number in range(1,6):\n",
    "    print(f\"Number is {number}\")"
   ]
  },
  {
   "cell_type": "code",
   "execution_count": 9,
   "metadata": {},
   "outputs": [
    {
     "name": "stdout",
     "output_type": "stream",
     "text": [
      "Letter is p\n",
      "Letter is y\n",
      "Letter is t\n",
      "Letter is h\n",
      "Letter is o\n",
      "Letter is n\n"
     ]
    }
   ],
   "source": [
    "word = \"python\"\n",
    "for letter in word:\n",
    "    print(f\"Letter is {letter}\")"
   ]
  },
  {
   "cell_type": "code",
   "execution_count": 12,
   "metadata": {},
   "outputs": [
    {
     "name": "stdout",
     "output_type": "stream",
     "text": [
      "H\n",
      "e\n",
      "l\n",
      "l\n",
      "o\n"
     ]
    }
   ],
   "source": [
    "word = input(\"Enter a word:\")\n",
    "for letter in word:\n",
    "    print(letter) "
   ]
  },
  {
   "cell_type": "markdown",
   "metadata": {},
   "source": [
    "Proportional pattern"
   ]
  },
  {
   "cell_type": "code",
   "execution_count": 17,
   "metadata": {},
   "outputs": [
    {
     "name": "stdout",
     "output_type": "stream",
     "text": [
      "o  o  o  o  o  \n",
      "o  o  o  o  o  \n",
      "o  o  o  o  o  \n",
      "o  o  o  o  o  \n",
      "o  o  o  o  o  \n"
     ]
    }
   ],
   "source": [
    "n = 5\n",
    "for i in range(n):\n",
    "    for j in range(n):\n",
    "        print(\"o\", end=\"  \")\n",
    "    print()"
   ]
  },
  {
   "cell_type": "markdown",
   "metadata": {},
   "source": [
    "increasing pattern"
   ]
  },
  {
   "cell_type": "code",
   "execution_count": 18,
   "metadata": {},
   "outputs": [
    {
     "name": "stdout",
     "output_type": "stream",
     "text": [
      "o  \n",
      "o  o  \n",
      "o  o  o  \n",
      "o  o  o  o  \n",
      "o  o  o  o  o  \n"
     ]
    }
   ],
   "source": [
    "n = 5\n",
    "for i in range(n):\n",
    "    for j in range(i+1):\n",
    "        print(\"o\", end=\"  \")\n",
    "    print()"
   ]
  },
  {
   "cell_type": "markdown",
   "metadata": {},
   "source": [
    "break"
   ]
  },
  {
   "cell_type": "code",
   "execution_count": 19,
   "metadata": {},
   "outputs": [
    {
     "name": "stdout",
     "output_type": "stream",
     "text": [
      "Number is 1\n",
      "Number is 2\n",
      "Stopping the loop!\n"
     ]
    }
   ],
   "source": [
    "for number in range (1,6):\n",
    "    if number == 3:\n",
    "        print(\"Stopping the loop!\")\n",
    "        break\n",
    "    print(f\"Number is {number}\")"
   ]
  },
  {
   "cell_type": "markdown",
   "metadata": {},
   "source": [
    "pass"
   ]
  },
  {
   "cell_type": "code",
   "execution_count": 23,
   "metadata": {},
   "outputs": [
    {
     "name": "stdout",
     "output_type": "stream",
     "text": [
      "Number is 1\n",
      "Number is 2\n",
      "Number is 3\n",
      "Number is 4\n",
      "Number is 5\n"
     ]
    }
   ],
   "source": [
    "for number in range(1,6):\n",
    "    if number == 3:\n",
    "        pass\n",
    "    print(f\"Number is {number}\")"
   ]
  },
  {
   "cell_type": "markdown",
   "metadata": {},
   "source": [
    "continue"
   ]
  },
  {
   "cell_type": "code",
   "execution_count": 24,
   "metadata": {},
   "outputs": [
    {
     "name": "stdout",
     "output_type": "stream",
     "text": [
      "Number is 1\n",
      "Number is 2\n",
      "Number is 4\n",
      "Number is 5\n"
     ]
    }
   ],
   "source": [
    "for number in range(1,6):\n",
    "    if number == 3:\n",
    "        continue\n",
    "    print(f\"Number is {number}\")"
   ]
  },
  {
   "cell_type": "markdown",
   "metadata": {},
   "source": [
    "funtions"
   ]
  },
  {
   "cell_type": "code",
   "execution_count": 26,
   "metadata": {},
   "outputs": [
    {
     "name": "stdout",
     "output_type": "stream",
     "text": [
      "8\n"
     ]
    }
   ],
   "source": [
    "def add_numbers(a,b):\n",
    "    \"\"\"\n",
    "    Add two  umbers and returns the sum\n",
    "    \"\"\"\n",
    "    return a + b\n",
    "result = add_numbers(3,5)\n",
    "print(result)"
   ]
  },
  {
   "cell_type": "code",
   "execution_count": 31,
   "metadata": {},
   "outputs": [],
   "source": [
    "def circle_area(r):\n",
    "    \"\"\"\n",
    "    Calculate the area of a circle\n",
    "    \"\"\"\n",
    "    s = 3.1415 * r ** 2\n",
    "    return s"
   ]
  },
  {
   "cell_type": "code",
   "execution_count": 32,
   "metadata": {},
   "outputs": [
    {
     "name": "stdout",
     "output_type": "stream",
     "text": [
      "3.1415\n"
     ]
    }
   ],
   "source": [
    "print(circle_area(1))"
   ]
  },
  {
   "cell_type": "code",
   "execution_count": 3,
   "metadata": {},
   "outputs": [
    {
     "name": "stdout",
     "output_type": "stream",
     "text": [
      "o  \n",
      "o  o  \n",
      "o  o  o  \n",
      "o  o  o  o  \n",
      "o  o  o  o  o  \n"
     ]
    }
   ],
   "source": [
    "def circle_pattern(n):\n",
    "    \"\"\"\n",
    "    Print a circle pattern\n",
    "    \"\"\"\n",
    "    for i in range(n):\n",
    "        for j in range(i+1):\n",
    "            print(\"o\", end=\"  \")\n",
    "        print()\n",
    "        n = int(input (\"Enter the number of rows: \"))\n",
    "circle_pattern(n)"
   ]
  },
  {
   "cell_type": "code",
   "execution_count": null,
   "metadata": {},
   "outputs": [],
   "source": [
    "import matplotlib.pyplot as plt\n",
    "\n",
    "for r in range(1,6):\n",
    "    print(circle_area(r))\n",
    "    "
   ]
  }
 ],
 "metadata": {
  "kernelspec": {
   "display_name": "Python 3",
   "language": "python",
   "name": "python3"
  },
  "language_info": {
   "codemirror_mode": {
    "name": "ipython",
    "version": 3
   },
   "file_extension": ".py",
   "mimetype": "text/x-python",
   "name": "python",
   "nbconvert_exporter": "python",
   "pygments_lexer": "ipython3",
   "version": "3.10.12"
  }
 },
 "nbformat": 4,
 "nbformat_minor": 2
}
